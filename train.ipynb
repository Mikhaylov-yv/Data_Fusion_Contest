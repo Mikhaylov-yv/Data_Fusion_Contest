{
 "cells": [
  {
   "cell_type": "markdown",
   "id": "altered-citizenship",
   "metadata": {
    "toc": true
   },
   "source": [
    "<h1>Table of Contents<span class=\"tocSkip\"></span></h1>\n",
    "<div class=\"toc\"><ul class=\"toc-item\"></ul></div>"
   ]
  },
  {
   "cell_type": "code",
   "execution_count": 3,
   "id": "rocky-rolling",
   "metadata": {},
   "outputs": [],
   "source": [
    "import pandas as pd\n",
    "import numpy as np"
   ]
  },
  {
   "cell_type": "code",
   "execution_count": 4,
   "id": "expanded-scholar",
   "metadata": {},
   "outputs": [],
   "source": [
    "# Модули для nlp\n",
    "from sklearn.feature_extraction.text import CountVectorizer\n",
    "from sklearn.linear_model import LogisticRegression\n",
    "from sklearn.model_selection import cross_val_score\n",
    "from nltk.corpus import stopwords\n",
    "import pickle\n",
    "import re"
   ]
  },
  {
   "cell_type": "code",
   "execution_count": 6,
   "id": "alternate-devil",
   "metadata": {},
   "outputs": [
    {
     "name": "stdout",
     "output_type": "stream",
     "text": [
      "(6483226, 9)\n"
     ]
    },
    {
     "data": {
      "text/html": [
       "<div>\n",
       "<style scoped>\n",
       "    .dataframe tbody tr th:only-of-type {\n",
       "        vertical-align: middle;\n",
       "    }\n",
       "\n",
       "    .dataframe tbody tr th {\n",
       "        vertical-align: top;\n",
       "    }\n",
       "\n",
       "    .dataframe thead th {\n",
       "        text-align: right;\n",
       "    }\n",
       "</style>\n",
       "<table border=\"1\" class=\"dataframe\">\n",
       "  <thead>\n",
       "    <tr style=\"text-align: right;\">\n",
       "      <th></th>\n",
       "      <th>receipt_id</th>\n",
       "      <th>receipt_dayofweek</th>\n",
       "      <th>receipt_time</th>\n",
       "      <th>item_name</th>\n",
       "      <th>item_quantity</th>\n",
       "      <th>item_price</th>\n",
       "      <th>item_nds_rate</th>\n",
       "      <th>category_id</th>\n",
       "      <th>brands</th>\n",
       "    </tr>\n",
       "  </thead>\n",
       "  <tbody>\n",
       "    <tr>\n",
       "      <th>1</th>\n",
       "      <td>11</td>\n",
       "      <td>6</td>\n",
       "      <td>20:34</td>\n",
       "      <td>Молоко 3,2%,шт</td>\n",
       "      <td>2.0</td>\n",
       "      <td>8</td>\n",
       "      <td>2</td>\n",
       "      <td>78</td>\n",
       "      <td>None</td>\n",
       "    </tr>\n",
       "    <tr>\n",
       "      <th>3</th>\n",
       "      <td>39</td>\n",
       "      <td>4</td>\n",
       "      <td>11:28</td>\n",
       "      <td>Компот из изюма, 114 ккал</td>\n",
       "      <td>1.0</td>\n",
       "      <td>4</td>\n",
       "      <td>1</td>\n",
       "      <td>71</td>\n",
       "      <td>None</td>\n",
       "    </tr>\n",
       "    <tr>\n",
       "      <th>4</th>\n",
       "      <td>39</td>\n",
       "      <td>4</td>\n",
       "      <td>11:28</td>\n",
       "      <td>Макаронные изделия отварные (масло сливочное),...</td>\n",
       "      <td>1.0</td>\n",
       "      <td>4</td>\n",
       "      <td>1</td>\n",
       "      <td>71</td>\n",
       "      <td>None</td>\n",
       "    </tr>\n",
       "    <tr>\n",
       "      <th>17</th>\n",
       "      <td>56</td>\n",
       "      <td>5</td>\n",
       "      <td>11:42</td>\n",
       "      <td>Кофе Капучино Большой Эден 18</td>\n",
       "      <td>1.0</td>\n",
       "      <td>12</td>\n",
       "      <td>1</td>\n",
       "      <td>70</td>\n",
       "      <td>None</td>\n",
       "    </tr>\n",
       "    <tr>\n",
       "      <th>40</th>\n",
       "      <td>105</td>\n",
       "      <td>3</td>\n",
       "      <td>01:53</td>\n",
       "      <td>Хлеб на СЫВОРОТКЕ 350г</td>\n",
       "      <td>1.0</td>\n",
       "      <td>7</td>\n",
       "      <td>-1</td>\n",
       "      <td>84</td>\n",
       "      <td>None</td>\n",
       "    </tr>\n",
       "  </tbody>\n",
       "</table>\n",
       "</div>"
      ],
      "text/plain": [
       "    receipt_id  receipt_dayofweek receipt_time  \\\n",
       "1           11                  6        20:34   \n",
       "3           39                  4        11:28   \n",
       "4           39                  4        11:28   \n",
       "17          56                  5        11:42   \n",
       "40         105                  3        01:53   \n",
       "\n",
       "                                            item_name  item_quantity  \\\n",
       "1                                      Молоко 3,2%,шт            2.0   \n",
       "3                           Компот из изюма, 114 ккал            1.0   \n",
       "4   Макаронные изделия отварные (масло сливочное),...            1.0   \n",
       "17                      Кофе Капучино Большой Эден 18            1.0   \n",
       "40                             Хлеб на СЫВОРОТКЕ 350г            1.0   \n",
       "\n",
       "    item_price  item_nds_rate  category_id brands  \n",
       "1            8              2           78   None  \n",
       "3            4              1           71   None  \n",
       "4            4              1           71   None  \n",
       "17          12              1           70   None  \n",
       "40           7             -1           84   None  "
      ]
     },
     "execution_count": 6,
     "metadata": {},
     "output_type": "execute_result"
    }
   ],
   "source": [
    "train = pd.read_parquet('data/input/data_fusion_train.parquet')\n",
    "train = train[train.category_id != -1]\n",
    "print(train.shape)\n",
    "train.head()"
   ]
  },
  {
   "cell_type": "code",
   "execution_count": 7,
   "id": "alpha-friendship",
   "metadata": {},
   "outputs": [
    {
     "data": {
      "text/plain": [
       "pandas.core.frame.DataFrame"
      ]
     },
     "execution_count": 7,
     "metadata": {},
     "output_type": "execute_result"
    }
   ],
   "source": [
    "type(train)"
   ]
  },
  {
   "cell_type": "code",
   "execution_count": 8,
   "id": "missing-village",
   "metadata": {},
   "outputs": [
    {
     "data": {
      "text/plain": [
       "category_id\n",
       "78                                       Молоко 3,2%,шт\n",
       "71                            Компот из изюма, 114 ккал\n",
       "71    Макаронные изделия отварные (масло сливочное),...\n",
       "70                        Кофе Капучино Большой Эден 18\n",
       "84                               Хлеб на СЫВОРОТКЕ 350г\n",
       "                            ...                        \n",
       "83                       Напиток Энерг. Ред Булл 0,355л\n",
       "0                                     Хеменгуэй Дайкири\n",
       "0       Пиво светлое \"Халзан\" 4,5 % об, пл/б. 1,5 л(шт)\n",
       "42                                     Экспресс педикюр\n",
       "84                 Конфеты Харитоша 1кг мол. ваф Яшкино\n",
       "Name: item_name, Length: 48225, dtype: object"
      ]
     },
     "execution_count": 8,
     "metadata": {},
     "output_type": "execute_result"
    }
   ],
   "source": [
    "# Выделение item_name с индексами category_id\n",
    "train_item_name_ser = train['item_name']\n",
    "train_item_name_ser.index = train['category_id']\n",
    "train_item_name_ser = train_item_name_ser.drop_duplicates()\n",
    "train_item_name_ser"
   ]
  },
  {
   "cell_type": "code",
   "execution_count": 9,
   "id": "armed-creativity",
   "metadata": {},
   "outputs": [
    {
     "data": {
      "text/plain": [
       "category_id\n",
       "78                                       молоко 3,2%,шт\n",
       "71                            компот из изюма, 114 ккал\n",
       "71    макаронные изделия отварные (масло сливочное),...\n",
       "70                        кофе капучино большой эден 18\n",
       "84                               хлеб на сыворотке 350г\n",
       "                            ...                        \n",
       "83                       напиток энерг. ред булл 0,355л\n",
       "0                                     хеменгуэй дайкири\n",
       "0       пиво светлое \"халзан\" 4,5 % об, пл/б. 1,5 л(шт)\n",
       "42                                     экспресс педикюр\n",
       "84                 конфеты харитоша 1кг мол. ваф яшкино\n",
       "Name: item_name, Length: 48225, dtype: object"
      ]
     },
     "execution_count": 9,
     "metadata": {},
     "output_type": "execute_result"
    }
   ],
   "source": [
    "# Предварительная обработка текста\n",
    "train_item_name_ser = train_item_name_ser.str.lower()\n",
    "train_item_name_ser"
   ]
  },
  {
   "cell_type": "code",
   "execution_count": 10,
   "id": "looking-charger",
   "metadata": {},
   "outputs": [
    {
     "name": "stdout",
     "output_type": "stream",
     "text": [
      "Определено 10373 оригинальных слов\n"
     ]
    }
   ],
   "source": [
    "# Приведение в векторное состояние должно получиться < 20 000\n",
    "stop = stopwords.words('russian')\n",
    "cv  = CountVectorizer(stop_words = stop, min_df = 3)\n",
    "cv_fit = cv.fit_transform(train_item_name_ser)\n",
    "print(f\"Определено {cv_fit.shape[1]} оригинальных слов\")"
   ]
  },
  {
   "cell_type": "code",
   "execution_count": 11,
   "id": "suburban-treasurer",
   "metadata": {},
   "outputs": [],
   "source": [
    "word_list = cv.get_feature_names()\n",
    "count_list = cv_fit.toarray().sum(axis=0)"
   ]
  },
  {
   "cell_type": "code",
   "execution_count": 12,
   "id": "exact-distribution",
   "metadata": {},
   "outputs": [
    {
     "data": {
      "text/plain": [
       "шт               2491\n",
       "5л               1240\n",
       "1кг              1106\n",
       "гр                968\n",
       "хлеб              895\n",
       "                 ... \n",
       "мкр                 3\n",
       "ганноверские        3\n",
       "ганча               3\n",
       "гарнира             3\n",
       "гигиенические       3\n",
       "Length: 10373, dtype: int64"
      ]
     },
     "execution_count": 12,
     "metadata": {},
     "output_type": "execute_result"
    }
   ],
   "source": [
    "# Самые популярные слова\n",
    "pd.Series(dict(zip(word_list,count_list))).sort_values(ascending=False)"
   ]
  },
  {
   "cell_type": "code",
   "execution_count": 13,
   "id": "australian-appendix",
   "metadata": {},
   "outputs": [
    {
     "data": {
      "text/plain": [
       "array([0.77952272, 0.76185511, 0.72258537])"
      ]
     },
     "execution_count": 13,
     "metadata": {},
     "output_type": "execute_result"
    }
   ],
   "source": [
    "X_train = cv_fit\n",
    "clf = LogisticRegression(max_iter=400)\n",
    "cross_val_score(clf, X_train, train_item_name_ser.index, cv=3, scoring='f1_weighted')"
   ]
  },
  {
   "cell_type": "code",
   "execution_count": 14,
   "id": "destroyed-drink",
   "metadata": {},
   "outputs": [
    {
     "data": {
      "text/plain": [
       "LogisticRegression(max_iter=400)"
      ]
     },
     "execution_count": 14,
     "metadata": {},
     "output_type": "execute_result"
    }
   ],
   "source": [
    "clf.fit(X_train, train_item_name_ser.index)"
   ]
  },
  {
   "cell_type": "code",
   "execution_count": 15,
   "id": "industrial-reality",
   "metadata": {},
   "outputs": [
    {
     "data": {
      "text/plain": [
       "array([78, 71, 71, ...,  0, 42, 84], dtype=int64)"
      ]
     },
     "execution_count": 15,
     "metadata": {},
     "output_type": "execute_result"
    }
   ],
   "source": [
    "predict_list = clf.predict(X_train)\n",
    "predict_list"
   ]
  },
  {
   "cell_type": "code",
   "execution_count": 16,
   "id": "unauthorized-citizen",
   "metadata": {},
   "outputs": [
    {
     "data": {
      "text/plain": [
       "(48225,)"
      ]
     },
     "execution_count": 16,
     "metadata": {},
     "output_type": "execute_result"
    }
   ],
   "source": [
    "predict_list.shape"
   ]
  },
  {
   "cell_type": "code",
   "execution_count": 17,
   "id": "false-roots",
   "metadata": {},
   "outputs": [
    {
     "name": "stdout",
     "output_type": "stream",
     "text": [
      "88.42094349403837\n"
     ]
    },
    {
     "data": {
      "text/html": [
       "<div>\n",
       "<style scoped>\n",
       "    .dataframe tbody tr th:only-of-type {\n",
       "        vertical-align: middle;\n",
       "    }\n",
       "\n",
       "    .dataframe tbody tr th {\n",
       "        vertical-align: top;\n",
       "    }\n",
       "\n",
       "    .dataframe thead th {\n",
       "        text-align: right;\n",
       "    }\n",
       "</style>\n",
       "<table border=\"1\" class=\"dataframe\">\n",
       "  <thead>\n",
       "    <tr style=\"text-align: right;\">\n",
       "      <th></th>\n",
       "      <th>item_name</th>\n",
       "      <th>predict</th>\n",
       "    </tr>\n",
       "    <tr>\n",
       "      <th>category_id</th>\n",
       "      <th></th>\n",
       "      <th></th>\n",
       "    </tr>\n",
       "  </thead>\n",
       "  <tbody>\n",
       "    <tr>\n",
       "      <th>203</th>\n",
       "      <td>пакет</td>\n",
       "      <td>71</td>\n",
       "    </tr>\n",
       "    <tr>\n",
       "      <th>71</th>\n",
       "      <td>морс 200  мл</td>\n",
       "      <td>83</td>\n",
       "    </tr>\n",
       "    <tr>\n",
       "      <th>12</th>\n",
       "      <td>400мл mrricco organic п/я67%дп</td>\n",
       "      <td>71</td>\n",
       "    </tr>\n",
       "    <tr>\n",
       "      <th>139</th>\n",
       "      <td>перчатки хоз-ые/кд,s</td>\n",
       "      <td>117</td>\n",
       "    </tr>\n",
       "    <tr>\n",
       "      <th>204</th>\n",
       "      <td>участие в программе лояльности</td>\n",
       "      <td>71</td>\n",
       "    </tr>\n",
       "    <tr>\n",
       "      <th>...</th>\n",
       "      <td>...</td>\n",
       "      <td>...</td>\n",
       "    </tr>\n",
       "    <tr>\n",
       "      <th>111</th>\n",
       "      <td>прокладка кольцо на металлопласт ф16 (10 шт.)</td>\n",
       "      <td>105</td>\n",
       "    </tr>\n",
       "    <tr>\n",
       "      <th>177</th>\n",
       "      <td>спутниковый ресивер триколор тв</td>\n",
       "      <td>78</td>\n",
       "    </tr>\n",
       "    <tr>\n",
       "      <th>103</th>\n",
       "      <td>мормышка  литая колюбакино</td>\n",
       "      <td>71</td>\n",
       "    </tr>\n",
       "    <tr>\n",
       "      <th>71</th>\n",
       "      <td>штрудель с маком/100</td>\n",
       "      <td>84</td>\n",
       "    </tr>\n",
       "    <tr>\n",
       "      <th>0</th>\n",
       "      <td>хеменгуэй дайкири</td>\n",
       "      <td>84</td>\n",
       "    </tr>\n",
       "  </tbody>\n",
       "</table>\n",
       "<p>5584 rows × 2 columns</p>\n",
       "</div>"
      ],
      "text/plain": [
       "                                                 item_name  predict\n",
       "category_id                                                        \n",
       "203                                                  пакет       71\n",
       "71                                            морс 200  мл       83\n",
       "12                          400мл mrricco organic п/я67%дп       71\n",
       "139                                   перчатки хоз-ые/кд,s      117\n",
       "204                         участие в программе лояльности       71\n",
       "...                                                    ...      ...\n",
       "111          прокладка кольцо на металлопласт ф16 (10 шт.)      105\n",
       "177                        спутниковый ресивер триколор тв       78\n",
       "103                             мормышка  литая колюбакино       71\n",
       "71                                    штрудель с маком/100       84\n",
       "0                                        хеменгуэй дайкири       84\n",
       "\n",
       "[5584 rows x 2 columns]"
      ]
     },
     "execution_count": 17,
     "metadata": {},
     "output_type": "execute_result"
    }
   ],
   "source": [
    "predict_df = pd.DataFrame(train_item_name_ser)\n",
    "predict_df['predict'] = predict_list\n",
    "# Процентная точность модели\n",
    "print(100 - predict_df.loc[predict_df.index != predict_df.predict].shape[0] / predict_df.shape[0] * 100)\n",
    "predict_df.loc[predict_df.index != predict_df.predict]"
   ]
  },
  {
   "cell_type": "code",
   "execution_count": 18,
   "id": "temporal-safety",
   "metadata": {},
   "outputs": [],
   "source": [
    "import pickle\n",
    "tfidf = cv\n",
    "clf = clf\n",
    "pickle.dump(tfidf, open('tfidf', 'wb'))\n",
    "pickle.dump(clf, open('clf_task1', 'wb'))"
   ]
  },
  {
   "cell_type": "code",
   "execution_count": null,
   "id": "designed-despite",
   "metadata": {},
   "outputs": [],
   "source": []
  }
 ],
 "metadata": {
  "kernelspec": {
   "display_name": "Python 3",
   "language": "python",
   "name": "python3"
  },
  "language_info": {
   "codemirror_mode": {
    "name": "ipython",
    "version": 3
   },
   "file_extension": ".py",
   "mimetype": "text/x-python",
   "name": "python",
   "nbconvert_exporter": "python",
   "pygments_lexer": "ipython3",
   "version": "3.9.1"
  },
  "toc": {
   "base_numbering": 1,
   "nav_menu": {},
   "number_sections": true,
   "sideBar": true,
   "skip_h1_title": true,
   "title_cell": "Table of Contents",
   "title_sidebar": "Contents",
   "toc_cell": true,
   "toc_position": {},
   "toc_section_display": true,
   "toc_window_display": false
  }
 },
 "nbformat": 4,
 "nbformat_minor": 5
}
