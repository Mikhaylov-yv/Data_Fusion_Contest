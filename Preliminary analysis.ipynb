{
 "cells": [
  {
   "cell_type": "markdown",
   "id": "featured-whale",
   "metadata": {
    "toc": true
   },
   "source": [
    "<h1>Table of Contents<span class=\"tocSkip\"></span></h1>\n",
    "<div class=\"toc\"><ul class=\"toc-item\"></ul></div>"
   ]
  },
  {
   "cell_type": "code",
   "execution_count": 27,
   "id": "super-outside",
   "metadata": {},
   "outputs": [],
   "source": [
    "import pandas as pd\n",
    "import numpy as np"
   ]
  },
  {
   "cell_type": "markdown",
   "id": "relative-utility",
   "metadata": {},
   "source": [
    "# Загрузка тренировочных данных данных"
   ]
  },
  {
   "cell_type": "code",
   "execution_count": 28,
   "id": "impressive-astronomy",
   "metadata": {},
   "outputs": [],
   "source": [
    "train = pd.read_parquet('data/data_fusion_train.parquet')\n",
    "train = train[train.category_id != -1]"
   ]
  },
  {
   "cell_type": "code",
   "execution_count": 29,
   "id": "blocked-mainland",
   "metadata": {},
   "outputs": [
    {
     "data": {
      "text/html": [
       "<div>\n",
       "<style scoped>\n",
       "    .dataframe tbody tr th:only-of-type {\n",
       "        vertical-align: middle;\n",
       "    }\n",
       "\n",
       "    .dataframe tbody tr th {\n",
       "        vertical-align: top;\n",
       "    }\n",
       "\n",
       "    .dataframe thead th {\n",
       "        text-align: right;\n",
       "    }\n",
       "</style>\n",
       "<table border=\"1\" class=\"dataframe\">\n",
       "  <thead>\n",
       "    <tr style=\"text-align: right;\">\n",
       "      <th></th>\n",
       "      <th>receipt_id</th>\n",
       "      <th>receipt_dayofweek</th>\n",
       "      <th>receipt_time</th>\n",
       "      <th>item_name</th>\n",
       "      <th>item_quantity</th>\n",
       "      <th>item_price</th>\n",
       "      <th>item_nds_rate</th>\n",
       "      <th>category_id</th>\n",
       "      <th>brands</th>\n",
       "    </tr>\n",
       "  </thead>\n",
       "  <tbody>\n",
       "    <tr>\n",
       "      <th>1</th>\n",
       "      <td>11</td>\n",
       "      <td>6</td>\n",
       "      <td>20:34</td>\n",
       "      <td>Молоко 3,2%,шт</td>\n",
       "      <td>2.0</td>\n",
       "      <td>8</td>\n",
       "      <td>2</td>\n",
       "      <td>78</td>\n",
       "      <td>None</td>\n",
       "    </tr>\n",
       "    <tr>\n",
       "      <th>3</th>\n",
       "      <td>39</td>\n",
       "      <td>4</td>\n",
       "      <td>11:28</td>\n",
       "      <td>Компот из изюма, 114 ккал</td>\n",
       "      <td>1.0</td>\n",
       "      <td>4</td>\n",
       "      <td>1</td>\n",
       "      <td>71</td>\n",
       "      <td>None</td>\n",
       "    </tr>\n",
       "    <tr>\n",
       "      <th>4</th>\n",
       "      <td>39</td>\n",
       "      <td>4</td>\n",
       "      <td>11:28</td>\n",
       "      <td>Макаронные изделия отварные (масло сливочное),...</td>\n",
       "      <td>1.0</td>\n",
       "      <td>4</td>\n",
       "      <td>1</td>\n",
       "      <td>71</td>\n",
       "      <td>None</td>\n",
       "    </tr>\n",
       "    <tr>\n",
       "      <th>17</th>\n",
       "      <td>56</td>\n",
       "      <td>5</td>\n",
       "      <td>11:42</td>\n",
       "      <td>Кофе Капучино Большой Эден 18</td>\n",
       "      <td>1.0</td>\n",
       "      <td>12</td>\n",
       "      <td>1</td>\n",
       "      <td>70</td>\n",
       "      <td>None</td>\n",
       "    </tr>\n",
       "    <tr>\n",
       "      <th>40</th>\n",
       "      <td>105</td>\n",
       "      <td>3</td>\n",
       "      <td>01:53</td>\n",
       "      <td>Хлеб на СЫВОРОТКЕ 350г</td>\n",
       "      <td>1.0</td>\n",
       "      <td>7</td>\n",
       "      <td>-1</td>\n",
       "      <td>84</td>\n",
       "      <td>None</td>\n",
       "    </tr>\n",
       "  </tbody>\n",
       "</table>\n",
       "</div>"
      ],
      "text/plain": [
       "    receipt_id  receipt_dayofweek receipt_time  \\\n",
       "1           11                  6        20:34   \n",
       "3           39                  4        11:28   \n",
       "4           39                  4        11:28   \n",
       "17          56                  5        11:42   \n",
       "40         105                  3        01:53   \n",
       "\n",
       "                                            item_name  item_quantity  \\\n",
       "1                                      Молоко 3,2%,шт            2.0   \n",
       "3                           Компот из изюма, 114 ккал            1.0   \n",
       "4   Макаронные изделия отварные (масло сливочное),...            1.0   \n",
       "17                      Кофе Капучино Большой Эден 18            1.0   \n",
       "40                             Хлеб на СЫВОРОТКЕ 350г            1.0   \n",
       "\n",
       "    item_price  item_nds_rate  category_id brands  \n",
       "1            8              2           78   None  \n",
       "3            4              1           71   None  \n",
       "4            4              1           71   None  \n",
       "17          12              1           70   None  \n",
       "40           7             -1           84   None  "
      ]
     },
     "execution_count": 29,
     "metadata": {},
     "output_type": "execute_result"
    }
   ],
   "source": [
    "train.head()"
   ]
  },
  {
   "cell_type": "code",
   "execution_count": 30,
   "id": "amended-newspaper",
   "metadata": {},
   "outputs": [
    {
     "name": "stdout",
     "output_type": "stream",
     "text": [
      "<class 'pandas.core.frame.DataFrame'>\n",
      "Int64Index: 6483226 entries, 1 to 45729281\n",
      "Data columns (total 9 columns):\n",
      " #   Column             Dtype  \n",
      "---  ------             -----  \n",
      " 0   receipt_id         int64  \n",
      " 1   receipt_dayofweek  int32  \n",
      " 2   receipt_time       object \n",
      " 3   item_name          object \n",
      " 4   item_quantity      float64\n",
      " 5   item_price         int64  \n",
      " 6   item_nds_rate      int32  \n",
      " 7   category_id        int64  \n",
      " 8   brands             object \n",
      "dtypes: float64(1), int32(2), int64(3), object(3)\n",
      "memory usage: 445.2+ MB\n"
     ]
    }
   ],
   "source": [
    "train.info()"
   ]
  },
  {
   "cell_type": "markdown",
   "id": "dressed-distinction",
   "metadata": {},
   "source": [
    "# Сводные данные"
   ]
  },
  {
   "cell_type": "code",
   "execution_count": 31,
   "id": "adequate-fleet",
   "metadata": {},
   "outputs": [
    {
     "data": {
      "text/plain": [
       "6483226"
      ]
     },
     "execution_count": 31,
     "metadata": {},
     "output_type": "execute_result"
    }
   ],
   "source": [
    "# Общее число записей\n",
    "count = train.shape[0]\n",
    "count"
   ]
  },
  {
   "cell_type": "code",
   "execution_count": 32,
   "id": "iraqi-tourist",
   "metadata": {},
   "outputs": [
    {
     "name": "stdout",
     "output_type": "stream",
     "text": [
      "Всего 98 категорий\n"
     ]
    },
    {
     "data": {
      "text/plain": [
       "203    20.1637\n",
       "84     13.9206\n",
       "80     10.3472\n",
       "78      7.7616\n",
       "71      6.5104\n",
       "        ...   \n",
       "106     0.0028\n",
       "97      0.0017\n",
       "46      0.0010\n",
       "143     0.0004\n",
       "121     0.0000\n",
       "Name: category_id, Length: 98, dtype: float64"
      ]
     },
     "execution_count": 32,
     "metadata": {},
     "output_type": "execute_result"
    }
   ],
   "source": [
    "# Популярные категории\n",
    "print(f\"Всего {train['category_id'].value_counts().count()} категорий\")\n",
    "np.round(train['category_id'].value_counts()/count, 6) * 100"
   ]
  },
  {
   "cell_type": "code",
   "execution_count": 38,
   "id": "italian-virtue",
   "metadata": {},
   "outputs": [
    {
     "data": {
      "text/plain": [
       "Сметана 10                                              12042\n",
       "Молоко Мудрая хозяйка 2,5% пленка 0,8 л БЗМЖ             7844\n",
       "Сметана 10г, 16 ккал                                     6532\n",
       "ЯЙЦО СТОЛОВОЕ 1КАТ. ПТИЦЕФАБРИКА ПИОНЕРСКОЕ 10ШТ         6358\n",
       "Яйцо куриное КОЛЬЦОВСКОЕ СО 10шт                         5194\n",
       "                                                        ...  \n",
       "Сыр коса копченый кг                                        1\n",
       "161, сыр Белослава Сливочный 50%                            1\n",
       "СОЛНЕЧНЫЙ ОСТРОВ Сливки сухие 180 г м/у                     1\n",
       "Сырки глазированные в шоколаде 150гр Б.Ю.Александров        1\n",
       "Сыр \"С пажитником и грец орехом\"  п/к Беларусь 1кг          1\n",
       "Name: item_name, Length: 2870, dtype: int64"
      ]
     },
     "execution_count": 38,
     "metadata": {},
     "output_type": "execute_result"
    }
   ],
   "source": [
    "train.loc[train['category_id'] == 78, 'item_name'].value_counts()"
   ]
  },
  {
   "cell_type": "code",
   "execution_count": 40,
   "id": "judicial-upset",
   "metadata": {},
   "outputs": [
    {
     "name": "stdout",
     "output_type": "stream",
     "text": [
      "Всего 2624 Брендов\n"
     ]
    },
    {
     "data": {
      "text/plain": [
       "кока-кола     0.8274\n",
       "орбит         0.4102\n",
       "пепси         0.2143\n",
       "пепси-кола    0.1690\n",
       "вискас        0.1414\n",
       "               ...  \n",
       "nordland      0.0000\n",
       "палитра       0.0000\n",
       "buffet        0.0000\n",
       "misty         0.0000\n",
       "sense         0.0000\n",
       "Name: brands, Length: 2624, dtype: float64"
      ]
     },
     "execution_count": 40,
     "metadata": {},
     "output_type": "execute_result"
    }
   ],
   "source": [
    "# Популярные Бренды\n",
    "print(f\"Всего {train['brands'].value_counts().count()} Брендов\")\n",
    "brands_serias = np.round(train['brands'].value_counts()/count, 6) * 100\n",
    "brands_serias"
   ]
  },
  {
   "cell_type": "code",
   "execution_count": null,
   "id": "resident-polish",
   "metadata": {},
   "outputs": [],
   "source": []
  }
 ],
 "metadata": {
  "kernelspec": {
   "display_name": "Python 3",
   "language": "python",
   "name": "python3"
  },
  "language_info": {
   "codemirror_mode": {
    "name": "ipython",
    "version": 3
   },
   "file_extension": ".py",
   "mimetype": "text/x-python",
   "name": "python",
   "nbconvert_exporter": "python",
   "pygments_lexer": "ipython3",
   "version": "3.9.1"
  },
  "toc": {
   "base_numbering": 1,
   "nav_menu": {},
   "number_sections": true,
   "sideBar": true,
   "skip_h1_title": true,
   "title_cell": "Table of Contents",
   "title_sidebar": "Contents",
   "toc_cell": true,
   "toc_position": {},
   "toc_section_display": true,
   "toc_window_display": false
  }
 },
 "nbformat": 4,
 "nbformat_minor": 5
}
