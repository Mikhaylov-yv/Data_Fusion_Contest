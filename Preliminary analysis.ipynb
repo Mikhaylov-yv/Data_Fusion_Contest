{
 "cells": [
  {
   "cell_type": "markdown",
   "id": "featured-whale",
   "metadata": {
    "toc": true
   },
   "source": [
    "<h1>Table of Contents<span class=\"tocSkip\"></span></h1>\n",
    "<div class=\"toc\"><ul class=\"toc-item\"></ul></div>"
   ]
  },
  {
   "cell_type": "code",
   "execution_count": 2,
   "id": "super-outside",
   "metadata": {},
   "outputs": [],
   "source": [
    "import pandas as pd\n",
    "import numpy as np"
   ]
  },
  {
   "cell_type": "markdown",
   "id": "relative-utility",
   "metadata": {},
   "source": [
    "# Загрузка тренировочных данных данных"
   ]
  },
  {
   "cell_type": "code",
   "execution_count": 4,
   "id": "impressive-astronomy",
   "metadata": {},
   "outputs": [],
   "source": [
    "train = pd.read_parquet('data/input/data_fusion_train.parquet')\n",
    "train = train[train.category_id != -1]"
   ]
  },
  {
   "cell_type": "code",
   "execution_count": 5,
   "id": "blocked-mainland",
   "metadata": {},
   "outputs": [
    {
     "data": {
      "text/html": [
       "<div>\n",
       "<style scoped>\n",
       "    .dataframe tbody tr th:only-of-type {\n",
       "        vertical-align: middle;\n",
       "    }\n",
       "\n",
       "    .dataframe tbody tr th {\n",
       "        vertical-align: top;\n",
       "    }\n",
       "\n",
       "    .dataframe thead th {\n",
       "        text-align: right;\n",
       "    }\n",
       "</style>\n",
       "<table border=\"1\" class=\"dataframe\">\n",
       "  <thead>\n",
       "    <tr style=\"text-align: right;\">\n",
       "      <th></th>\n",
       "      <th>receipt_id</th>\n",
       "      <th>receipt_dayofweek</th>\n",
       "      <th>receipt_time</th>\n",
       "      <th>item_name</th>\n",
       "      <th>item_quantity</th>\n",
       "      <th>item_price</th>\n",
       "      <th>item_nds_rate</th>\n",
       "      <th>category_id</th>\n",
       "      <th>brands</th>\n",
       "    </tr>\n",
       "  </thead>\n",
       "  <tbody>\n",
       "    <tr>\n",
       "      <th>1</th>\n",
       "      <td>11</td>\n",
       "      <td>6</td>\n",
       "      <td>20:34</td>\n",
       "      <td>Молоко 3,2%,шт</td>\n",
       "      <td>2.0</td>\n",
       "      <td>8</td>\n",
       "      <td>2</td>\n",
       "      <td>78</td>\n",
       "      <td>None</td>\n",
       "    </tr>\n",
       "    <tr>\n",
       "      <th>3</th>\n",
       "      <td>39</td>\n",
       "      <td>4</td>\n",
       "      <td>11:28</td>\n",
       "      <td>Компот из изюма, 114 ккал</td>\n",
       "      <td>1.0</td>\n",
       "      <td>4</td>\n",
       "      <td>1</td>\n",
       "      <td>71</td>\n",
       "      <td>None</td>\n",
       "    </tr>\n",
       "    <tr>\n",
       "      <th>4</th>\n",
       "      <td>39</td>\n",
       "      <td>4</td>\n",
       "      <td>11:28</td>\n",
       "      <td>Макаронные изделия отварные (масло сливочное),...</td>\n",
       "      <td>1.0</td>\n",
       "      <td>4</td>\n",
       "      <td>1</td>\n",
       "      <td>71</td>\n",
       "      <td>None</td>\n",
       "    </tr>\n",
       "    <tr>\n",
       "      <th>17</th>\n",
       "      <td>56</td>\n",
       "      <td>5</td>\n",
       "      <td>11:42</td>\n",
       "      <td>Кофе Капучино Большой Эден 18</td>\n",
       "      <td>1.0</td>\n",
       "      <td>12</td>\n",
       "      <td>1</td>\n",
       "      <td>70</td>\n",
       "      <td>None</td>\n",
       "    </tr>\n",
       "    <tr>\n",
       "      <th>40</th>\n",
       "      <td>105</td>\n",
       "      <td>3</td>\n",
       "      <td>01:53</td>\n",
       "      <td>Хлеб на СЫВОРОТКЕ 350г</td>\n",
       "      <td>1.0</td>\n",
       "      <td>7</td>\n",
       "      <td>-1</td>\n",
       "      <td>84</td>\n",
       "      <td>None</td>\n",
       "    </tr>\n",
       "  </tbody>\n",
       "</table>\n",
       "</div>"
      ],
      "text/plain": [
       "    receipt_id  receipt_dayofweek receipt_time  \\\n",
       "1           11                  6        20:34   \n",
       "3           39                  4        11:28   \n",
       "4           39                  4        11:28   \n",
       "17          56                  5        11:42   \n",
       "40         105                  3        01:53   \n",
       "\n",
       "                                            item_name  item_quantity  \\\n",
       "1                                      Молоко 3,2%,шт            2.0   \n",
       "3                           Компот из изюма, 114 ккал            1.0   \n",
       "4   Макаронные изделия отварные (масло сливочное),...            1.0   \n",
       "17                      Кофе Капучино Большой Эден 18            1.0   \n",
       "40                             Хлеб на СЫВОРОТКЕ 350г            1.0   \n",
       "\n",
       "    item_price  item_nds_rate  category_id brands  \n",
       "1            8              2           78   None  \n",
       "3            4              1           71   None  \n",
       "4            4              1           71   None  \n",
       "17          12              1           70   None  \n",
       "40           7             -1           84   None  "
      ]
     },
     "execution_count": 5,
     "metadata": {},
     "output_type": "execute_result"
    }
   ],
   "source": [
    "train.head()"
   ]
  },
  {
   "cell_type": "code",
   "execution_count": 6,
   "id": "amended-newspaper",
   "metadata": {},
   "outputs": [
    {
     "name": "stdout",
     "output_type": "stream",
     "text": [
      "<class 'pandas.core.frame.DataFrame'>\n",
      "Int64Index: 6483226 entries, 1 to 45729281\n",
      "Data columns (total 9 columns):\n",
      " #   Column             Dtype  \n",
      "---  ------             -----  \n",
      " 0   receipt_id         int64  \n",
      " 1   receipt_dayofweek  int32  \n",
      " 2   receipt_time       object \n",
      " 3   item_name          object \n",
      " 4   item_quantity      float64\n",
      " 5   item_price         int64  \n",
      " 6   item_nds_rate      int32  \n",
      " 7   category_id        int64  \n",
      " 8   brands             object \n",
      "dtypes: float64(1), int32(2), int64(3), object(3)\n",
      "memory usage: 445.2+ MB\n"
     ]
    }
   ],
   "source": [
    "train.info()"
   ]
  },
  {
   "cell_type": "markdown",
   "id": "dressed-distinction",
   "metadata": {},
   "source": [
    "# Сводные данные"
   ]
  },
  {
   "cell_type": "code",
   "execution_count": 7,
   "id": "adequate-fleet",
   "metadata": {},
   "outputs": [
    {
     "data": {
      "text/plain": [
       "6483226"
      ]
     },
     "execution_count": 7,
     "metadata": {},
     "output_type": "execute_result"
    }
   ],
   "source": [
    "# Общее число записей\n",
    "count = train.shape[0]\n",
    "count"
   ]
  },
  {
   "cell_type": "code",
   "execution_count": 8,
   "id": "iraqi-tourist",
   "metadata": {},
   "outputs": [
    {
     "name": "stdout",
     "output_type": "stream",
     "text": [
      "Всего 98 категорий\n"
     ]
    },
    {
     "data": {
      "text/plain": [
       "203    20.1637\n",
       "84     13.9206\n",
       "80     10.3472\n",
       "78      7.7616\n",
       "71      6.5104\n",
       "        ...   \n",
       "106     0.0028\n",
       "97      0.0017\n",
       "46      0.0010\n",
       "143     0.0004\n",
       "121     0.0000\n",
       "Name: category_id, Length: 98, dtype: float64"
      ]
     },
     "execution_count": 8,
     "metadata": {},
     "output_type": "execute_result"
    }
   ],
   "source": [
    "# Популярные категории\n",
    "print(f\"Всего {train['category_id'].value_counts().count()} категорий\")\n",
    "np.round(train['category_id'].value_counts()/count, 6) * 100"
   ]
  },
  {
   "cell_type": "code",
   "execution_count": 9,
   "id": "italian-virtue",
   "metadata": {},
   "outputs": [
    {
     "data": {
      "text/plain": [
       "Сметана 10                                          12042\n",
       "Молоко Мудрая хозяйка 2,5% пленка 0,8 л БЗМЖ         7844\n",
       "Сметана 10г, 16 ккал                                 6532\n",
       "ЯЙЦО СТОЛОВОЕ 1КАТ. ПТИЦЕФАБРИКА ПИОНЕРСКОЕ 10ШТ     6358\n",
       "Яйцо куриное КОЛЬЦОВСКОЕ СО 10шт                     5194\n",
       "                                                    ...  \n",
       "CМЕТАНА  ЛОСЕВО 250Г 15%                                1\n",
       "Продукт кисломолочный Тема Био                          1\n",
       "Желе  сливочно  кофейное                                1\n",
       " НЕЖНЫЙ С СОКОМ БАНАНА И КЛУБНИКИ 1.2% 100Г             1\n",
       "Сырок творожный с ванилью,шт                            1\n",
       "Name: item_name, Length: 2870, dtype: int64"
      ]
     },
     "execution_count": 9,
     "metadata": {},
     "output_type": "execute_result"
    }
   ],
   "source": [
    "train.loc[train['category_id'] == 78, 'item_name'].value_counts()"
   ]
  },
  {
   "cell_type": "code",
   "execution_count": 10,
   "id": "judicial-upset",
   "metadata": {},
   "outputs": [
    {
     "name": "stdout",
     "output_type": "stream",
     "text": [
      "Всего 2624 Брендов\n"
     ]
    },
    {
     "data": {
      "text/plain": [
       "кока-кола      0.8274\n",
       "орбит          0.4102\n",
       "пепси          0.2143\n",
       "пепси-кола     0.1690\n",
       "вискас         0.1414\n",
       "                ...  \n",
       "pulsar         0.0000\n",
       "tnb            0.0000\n",
       "cerave         0.0000\n",
       "росток         0.0000\n",
       "азбука моря    0.0000\n",
       "Name: brands, Length: 2624, dtype: float64"
      ]
     },
     "execution_count": 10,
     "metadata": {},
     "output_type": "execute_result"
    }
   ],
   "source": [
    "# Популярные Бренды\n",
    "print(f\"Всего {train['brands'].value_counts().count()} Брендов\")\n",
    "brands_serias = np.round(train['brands'].value_counts()/count, 6) * 100\n",
    "brands_serias"
   ]
  },
  {
   "cell_type": "markdown",
   "id": "spoken-mortality",
   "metadata": {},
   "source": [
    "# Выделение количества и единицы измерения"
   ]
  },
  {
   "cell_type": "code",
   "execution_count": 70,
   "id": "incorrect-partition",
   "metadata": {},
   "outputs": [
    {
     "data": {
      "text/html": [
       "<div>\n",
       "<style scoped>\n",
       "    .dataframe tbody tr th:only-of-type {\n",
       "        vertical-align: middle;\n",
       "    }\n",
       "\n",
       "    .dataframe tbody tr th {\n",
       "        vertical-align: top;\n",
       "    }\n",
       "\n",
       "    .dataframe thead th {\n",
       "        text-align: right;\n",
       "    }\n",
       "</style>\n",
       "<table border=\"1\" class=\"dataframe\">\n",
       "  <thead>\n",
       "    <tr style=\"text-align: right;\">\n",
       "      <th></th>\n",
       "      <th>item_name</th>\n",
       "    </tr>\n",
       "  </thead>\n",
       "  <tbody>\n",
       "    <tr>\n",
       "      <th>1</th>\n",
       "      <td>молоко 3,2%,шт</td>\n",
       "    </tr>\n",
       "    <tr>\n",
       "      <th>3</th>\n",
       "      <td>компот из изюма, 114 ккал</td>\n",
       "    </tr>\n",
       "    <tr>\n",
       "      <th>4</th>\n",
       "      <td>макаронные изделия отварные (масло сливочное),...</td>\n",
       "    </tr>\n",
       "    <tr>\n",
       "      <th>17</th>\n",
       "      <td>кофе капучино большой эден 18</td>\n",
       "    </tr>\n",
       "    <tr>\n",
       "      <th>40</th>\n",
       "      <td>хлеб на сыворотке 350г</td>\n",
       "    </tr>\n",
       "    <tr>\n",
       "      <th>...</th>\n",
       "      <td>...</td>\n",
       "    </tr>\n",
       "    <tr>\n",
       "      <th>45669181</th>\n",
       "      <td>напиток энерг. ред булл 0,355л</td>\n",
       "    </tr>\n",
       "    <tr>\n",
       "      <th>45681543</th>\n",
       "      <td>хеменгуэй дайкири</td>\n",
       "    </tr>\n",
       "    <tr>\n",
       "      <th>45690702</th>\n",
       "      <td>пиво светлое \"халзан\" 4,5 % об, пл/б. 1,5 л(шт)</td>\n",
       "    </tr>\n",
       "    <tr>\n",
       "      <th>45692298</th>\n",
       "      <td>экспресс педикюр</td>\n",
       "    </tr>\n",
       "    <tr>\n",
       "      <th>45700308</th>\n",
       "      <td>конфеты харитоша 1кг мол. ваф яшкино</td>\n",
       "    </tr>\n",
       "  </tbody>\n",
       "</table>\n",
       "<p>48225 rows × 1 columns</p>\n",
       "</div>"
      ],
      "text/plain": [
       "                                                  item_name\n",
       "1                                            молоко 3,2%,шт\n",
       "3                                 компот из изюма, 114 ккал\n",
       "4         макаронные изделия отварные (масло сливочное),...\n",
       "17                            кофе капучино большой эден 18\n",
       "40                                   хлеб на сыворотке 350г\n",
       "...                                                     ...\n",
       "45669181                     напиток энерг. ред булл 0,355л\n",
       "45681543                                  хеменгуэй дайкири\n",
       "45690702    пиво светлое \"халзан\" 4,5 % об, пл/б. 1,5 л(шт)\n",
       "45692298                                   экспресс педикюр\n",
       "45700308               конфеты харитоша 1кг мол. ваф яшкино\n",
       "\n",
       "[48225 rows x 1 columns]"
      ]
     },
     "execution_count": 70,
     "metadata": {},
     "output_type": "execute_result"
    }
   ],
   "source": [
    "item_name_col_df = train[['item_name']].drop_duplicates()\n",
    "item_name_col_df.item_name = item_name_col_df.item_name.str.lower()\n",
    "item_name_col_df"
   ]
  },
  {
   "cell_type": "code",
   "execution_count": 71,
   "id": "capital-freeze",
   "metadata": {},
   "outputs": [],
   "source": [
    "reg_dict = {'gram' : '\\d{1,5}.{0,1}г', \n",
    "            'kg' : '\\d{1,5}.{0,1}кг', \n",
    "            'litr' : '\\d{1,3}[.|,]{0,1}\\d{1,3}.{0,1}л'}"
   ]
  },
  {
   "cell_type": "code",
   "execution_count": 74,
   "id": "foster-minimum",
   "metadata": {},
   "outputs": [
    {
     "data": {
      "text/html": [
       "<div>\n",
       "<style scoped>\n",
       "    .dataframe tbody tr th:only-of-type {\n",
       "        vertical-align: middle;\n",
       "    }\n",
       "\n",
       "    .dataframe tbody tr th {\n",
       "        vertical-align: top;\n",
       "    }\n",
       "\n",
       "    .dataframe thead th {\n",
       "        text-align: right;\n",
       "    }\n",
       "</style>\n",
       "<table border=\"1\" class=\"dataframe\">\n",
       "  <thead>\n",
       "    <tr style=\"text-align: right;\">\n",
       "      <th></th>\n",
       "      <th>item_name</th>\n",
       "      <th>ed_izm</th>\n",
       "      <th>col</th>\n",
       "    </tr>\n",
       "  </thead>\n",
       "  <tbody>\n",
       "    <tr>\n",
       "      <th>40</th>\n",
       "      <td>хлеб на сыворотке</td>\n",
       "      <td>gram</td>\n",
       "      <td>0.350</td>\n",
       "    </tr>\n",
       "    <tr>\n",
       "      <th>170</th>\n",
       "      <td>2, лоск авт колор</td>\n",
       "      <td>kg</td>\n",
       "      <td>7.000</td>\n",
       "    </tr>\n",
       "    <tr>\n",
       "      <th>174</th>\n",
       "      <td>вафли с топленым молоком вес.  тортугалия</td>\n",
       "      <td>gram</td>\n",
       "      <td>0.001</td>\n",
       "    </tr>\n",
       "    <tr>\n",
       "      <th>188</th>\n",
       "      <td>сметана  кубанский  молочник  20%  р шт</td>\n",
       "      <td>gram</td>\n",
       "      <td>0.180</td>\n",
       "    </tr>\n",
       "    <tr>\n",
       "      <th>207</th>\n",
       "      <td>баклажаны</td>\n",
       "      <td>gram</td>\n",
       "      <td>0.001</td>\n",
       "    </tr>\n",
       "    <tr>\n",
       "      <th>...</th>\n",
       "      <td>...</td>\n",
       "      <td>...</td>\n",
       "      <td>...</td>\n",
       "    </tr>\n",
       "    <tr>\n",
       "      <th>45657633</th>\n",
       "      <td>2426 индейка крыло локтевая часть</td>\n",
       "      <td>gram</td>\n",
       "      <td>0.001</td>\n",
       "    </tr>\n",
       "    <tr>\n",
       "      <th>45666799</th>\n",
       "      <td>зефир шпек дульчия р</td>\n",
       "      <td>gram</td>\n",
       "      <td>0.100</td>\n",
       "    </tr>\n",
       "    <tr>\n",
       "      <th>45669181</th>\n",
       "      <td>напиток энерг. ред булл</td>\n",
       "      <td>litr</td>\n",
       "      <td>355.000</td>\n",
       "    </tr>\n",
       "    <tr>\n",
       "      <th>45690702</th>\n",
       "      <td>пиво светлое \"халзан\" 4,5 % об, пл/б. (шт)</td>\n",
       "      <td>litr</td>\n",
       "      <td>15.000</td>\n",
       "    </tr>\n",
       "    <tr>\n",
       "      <th>45700308</th>\n",
       "      <td>конфеты харитоша  мол. ваф яшкино</td>\n",
       "      <td>gram</td>\n",
       "      <td>0.001</td>\n",
       "    </tr>\n",
       "  </tbody>\n",
       "</table>\n",
       "<p>19511 rows × 3 columns</p>\n",
       "</div>"
      ],
      "text/plain": [
       "                                           item_name ed_izm      col\n",
       "40                                хлеб на сыворотке    gram    0.350\n",
       "170                                2, лоск авт колор     kg    7.000\n",
       "174        вафли с топленым молоком вес.  тортугалия   gram    0.001\n",
       "188          сметана  кубанский  молочник  20%  р шт   gram    0.180\n",
       "207                                       баклажаны    gram    0.001\n",
       "...                                              ...    ...      ...\n",
       "45657633          2426 индейка крыло локтевая часть    gram    0.001\n",
       "45666799                        зефир шпек дульчия р   gram    0.100\n",
       "45669181                    напиток энерг. ред булл    litr  355.000\n",
       "45690702  пиво светлое \"халзан\" 4,5 % об, пл/б. (шт)   litr   15.000\n",
       "45700308           конфеты харитоша  мол. ваф яшкино   gram    0.001\n",
       "\n",
       "[19511 rows x 3 columns]"
      ]
     },
     "execution_count": 74,
     "metadata": {},
     "output_type": "execute_result"
    }
   ],
   "source": [
    "item_name_col_df = train[['item_name']].drop_duplicates()\n",
    "item_name_col_df.item_name = item_name_col_df.item_name.str.lower()\n",
    "for typ in reg_dict.keys():\n",
    "    ser_filtr = item_name_col_df.item_name.str.contains(reg_dict[typ], na = False)\n",
    "    item_name_col_df.loc[ser_filtr, 'ed_izm'] = typ\n",
    "    col = item_name_col_df.item_name.str.extract(\n",
    "        f\"({reg_dict[typ]})\").loc[:,0]\n",
    "    item_name_col_df.loc[ser_filtr, 'col'] = col\n",
    "    item_name_col_df.loc[ser_filtr, 'item_name'] = item_name_col_df.loc[ser_filtr, \n",
    "                                                'item_name'].replace(regex={\n",
    "                                                reg_dict[typ] : ''})\n",
    "item_name_col_df.col = item_name_col_df.col.str.replace(' ', '', regex=True)\n",
    "item_name_col_df.col = item_name_col_df.col.str.replace(',', '.', regex=True)\n",
    "item_name_col_df.col = item_name_col_df.col.str.replace('[^0-9,]', '', regex=True)\n",
    "item_name_col_df.col = pd.to_numeric(item_name_col_df.col)\n",
    "# # Концеритруем все в близкое к кг\n",
    "for ed_izm in ['gram']:\n",
    "    item_name_col_df.loc[item_name_col_df.ed_izm == ed_izm, 'col'\n",
    "                        ] = item_name_col_df.loc[item_name_col_df.ed_izm == ed_izm, 'col'] / 1000\n",
    "item_name_col_df[~pd.isna(item_name_col_df.ed_izm)]"
   ]
  },
  {
   "cell_type": "code",
   "execution_count": null,
   "id": "anticipated-consortium",
   "metadata": {},
   "outputs": [],
   "source": []
  }
 ],
 "metadata": {
  "kernelspec": {
   "display_name": "Python 3",
   "language": "python",
   "name": "python3"
  },
  "language_info": {
   "codemirror_mode": {
    "name": "ipython",
    "version": 3
   },
   "file_extension": ".py",
   "mimetype": "text/x-python",
   "name": "python",
   "nbconvert_exporter": "python",
   "pygments_lexer": "ipython3",
   "version": "3.9.1"
  },
  "toc": {
   "base_numbering": 1,
   "nav_menu": {},
   "number_sections": true,
   "sideBar": true,
   "skip_h1_title": true,
   "title_cell": "Table of Contents",
   "title_sidebar": "Contents",
   "toc_cell": true,
   "toc_position": {},
   "toc_section_display": true,
   "toc_window_display": false
  }
 },
 "nbformat": 4,
 "nbformat_minor": 5
}
